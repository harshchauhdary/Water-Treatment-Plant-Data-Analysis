{
  "nbformat": 4,
  "nbformat_minor": 0,
  "metadata": {
    "colab": {
      "provenance": []
    },
    "kernelspec": {
      "name": "python3",
      "display_name": "Python 3"
    },
    "language_info": {
      "name": "python"
    }
  },
  "cells": [
    {
      "cell_type": "code",
      "source": [
        "import dask\n",
        "import dask.dataframe as dd\n",
        "from dask.delayed import delayed\n",
        "import pandas as pd\n",
        "\n",
        "parts = dask.delayed(pd.read_excel)(\"data.xlsx\", sheet_name=\"2019\", usecols = [0, 20, 55, 56, 57, 58])\n",
        "df2019 = dd.from_delayed(parts)\n",
        "\n",
        "parts = dask.delayed(pd.read_excel)(\"data.xlsx\", sheet_name=\"2020\", usecols = [0, 20, 55, 56, 57, 58])\n",
        "df2020 = dd.from_delayed(parts)\n",
        "\n",
        "parts = dask.delayed(pd.read_excel)(\"data.xlsx\", sheet_name=\"2021\", usecols = [0, 20, 56, 57, 58, 59])\n",
        "df2021 = dd.from_delayed(parts)\n",
        "\n",
        "parts = dask.delayed(pd.read_excel)(\"data.xlsx\", sheet_name=\"2022\", usecols = [0, 20, 55, 56, 57, 58])\n",
        "df2022 = dd.from_delayed(parts)\n",
        "\n"
      ],
      "metadata": {
        "id": "IV0-4aemh9i_"
      },
      "execution_count": 86,
      "outputs": []
    },
    {
      "cell_type": "code",
      "source": [
        "def do_stuff(df, n):\n",
        "  new_columns = ['Date', 'turbidity', 'chlorine', 'alum', 'lime_pre', 'lime_post']\n",
        "  df = df.rename(columns=dict(zip(df.columns, new_columns)))\n",
        "  df = df.head(n)\n",
        "  df = df.drop(0).drop(1).reset_index(drop=True)\n",
        "  df['Date'] = dd.to_datetime(df['Date'])\n",
        "  df['Date'] = df['Date'].dt.floor('D')\n",
        "  return df\n",
        "\n",
        "df2019 = do_stuff(df2019, 367)\n",
        "df2020 = do_stuff(df2020, 368)\n",
        "df2021 = do_stuff(df2021, 367)\n",
        "df2022 = do_stuff(df2022, 367)\n",
        "\n",
        "print(df2019.head())\n",
        "print(df2020.head())\n",
        "print(df2021.head())\n",
        "print(df2022.head())"
      ],
      "metadata": {
        "colab": {
          "base_uri": "https://localhost:8080/"
        },
        "id": "1MMl7pY1rpNi",
        "outputId": "7c8148d8-6d84-449f-98e9-b7071dccf94f"
      },
      "execution_count": 87,
      "outputs": [
        {
          "output_type": "stream",
          "name": "stdout",
          "text": [
            "        Date turbidity  chlorine   alum lime_pre lime_post\n",
            "0 2019-01-01         0  2.991784      0        5         9\n",
            "1 2019-01-02     0.401  2.876455  28.49        5         9\n",
            "2 2019-01-03     0.374  4.180292  30.32        5         9\n",
            "3 2019-01-04     0.361  3.144026  27.95        5         9\n",
            "4 2019-01-05     0.351  2.930639  32.14      5.2       9.4\n",
            "        Date turbidity  chlorine   alum lime_pre lime_post\n",
            "0 2020-01-01     0.281  2.601027  28.52      5.6       9.9\n",
            "1 2020-01-02     0.283  2.932847  27.81      5.6      10.1\n",
            "2 2020-01-03     0.427  2.894292  31.45      5.6      10.3\n",
            "3 2020-01-04     0.419       NaN  30.98      5.6      10.3\n",
            "4 2020-01-05         0       NaN      0        0         0\n",
            "        Date turbidity chlorine   alum lime_pre lime_post\n",
            "0 2021-01-01     0.471   2.8888  30.56      4.8       9.3\n",
            "1 2021-01-02     0.418  3.01435  30.38      4.8       9.3\n",
            "2 2021-01-03       NaN      NaN    NaN      NaN       NaN\n",
            "3 2021-01-04     0.534  2.70786  31.92      4.8       9.3\n",
            "4 2021-01-05     0.524  2.79585  31.69      4.8       9.6\n",
            "        Date turbidity  chlorine   alum lime_pre lime_post\n",
            "0 2022-01-01     0.486  3.356952  30.12      5.2      11.6\n",
            "1 2022-01-02         0  3.299315      0      5.2      11.8\n",
            "2 2022-01-03     0.419  3.276741  30.09      5.2      11.8\n",
            "3 2022-01-04     0.474  3.211393  30.67      5.2      11.8\n",
            "4 2022-01-05     0.458  3.303397  32.12      5.2        12\n"
          ]
        }
      ]
    },
    {
      "cell_type": "code",
      "source": [
        "data = dd.multi.concat([df2019, df2020, df2021, df2022])\n",
        "data = data.reset_index(drop=True)\n",
        "data[\"turbidity\"] = data[\"turbidity\"].apply(str).apply(lambda x: x.replace(',','0.'))\n",
        "data['turbidity']=data['turbidity'].astype(float)\n",
        "data['chlorine']=data['chlorine'].astype(float)\n",
        "data['alum']=data['alum'].astype(float)\n",
        "data['lime_pre']=data['lime_pre'].astype(float)\n",
        "data['lime_post']=data['lime_post'].astype(float)\n",
        "\n",
        "data.to_csv(\"data.csv\", single_file = True)\n",
        "data.head()"
      ],
      "metadata": {
        "colab": {
          "base_uri": "https://localhost:8080/",
          "height": 351
        },
        "id": "pt-ZQgm9cPcS",
        "outputId": "630c82a3-87d3-415e-a838-47ec7652b035"
      },
      "execution_count": 96,
      "outputs": [
        {
          "output_type": "stream",
          "name": "stderr",
          "text": [
            "/usr/local/lib/python3.9/dist-packages/dask/dataframe/core.py:4134: UserWarning: \n",
            "You did not provide metadata, so Dask is running your function on a small dataset to guess output types. It is possible that Dask will guess incorrectly.\n",
            "To provide an explicit output types or to silence this message, please provide the `meta=` keyword, as described in the map or apply function that you are using.\n",
            "  Before: .apply(func)\n",
            "  After:  .apply(func, meta=('turbidity', 'object'))\n",
            "\n",
            "  warnings.warn(meta_warning(meta))\n"
          ]
        },
        {
          "output_type": "execute_result",
          "data": {
            "text/plain": [
              "        Date  turbidity  chlorine   alum  lime_pre  lime_post\n",
              "0 2019-01-01      0.000  2.991784   0.00       5.0        9.0\n",
              "1 2019-01-02      0.401  2.876455  28.49       5.0        9.0\n",
              "2 2019-01-03      0.374  4.180292  30.32       5.0        9.0\n",
              "3 2019-01-04      0.361  3.144026  27.95       5.0        9.0\n",
              "4 2019-01-05      0.351  2.930639  32.14       5.2        9.4"
            ],
            "text/html": [
              "\n",
              "  <div id=\"df-1ab6a867-610f-4942-aedb-7eead41655ae\">\n",
              "    <div class=\"colab-df-container\">\n",
              "      <div>\n",
              "<style scoped>\n",
              "    .dataframe tbody tr th:only-of-type {\n",
              "        vertical-align: middle;\n",
              "    }\n",
              "\n",
              "    .dataframe tbody tr th {\n",
              "        vertical-align: top;\n",
              "    }\n",
              "\n",
              "    .dataframe thead th {\n",
              "        text-align: right;\n",
              "    }\n",
              "</style>\n",
              "<table border=\"1\" class=\"dataframe\">\n",
              "  <thead>\n",
              "    <tr style=\"text-align: right;\">\n",
              "      <th></th>\n",
              "      <th>Date</th>\n",
              "      <th>turbidity</th>\n",
              "      <th>chlorine</th>\n",
              "      <th>alum</th>\n",
              "      <th>lime_pre</th>\n",
              "      <th>lime_post</th>\n",
              "    </tr>\n",
              "  </thead>\n",
              "  <tbody>\n",
              "    <tr>\n",
              "      <th>0</th>\n",
              "      <td>2019-01-01</td>\n",
              "      <td>0.000</td>\n",
              "      <td>2.991784</td>\n",
              "      <td>0.00</td>\n",
              "      <td>5.0</td>\n",
              "      <td>9.0</td>\n",
              "    </tr>\n",
              "    <tr>\n",
              "      <th>1</th>\n",
              "      <td>2019-01-02</td>\n",
              "      <td>0.401</td>\n",
              "      <td>2.876455</td>\n",
              "      <td>28.49</td>\n",
              "      <td>5.0</td>\n",
              "      <td>9.0</td>\n",
              "    </tr>\n",
              "    <tr>\n",
              "      <th>2</th>\n",
              "      <td>2019-01-03</td>\n",
              "      <td>0.374</td>\n",
              "      <td>4.180292</td>\n",
              "      <td>30.32</td>\n",
              "      <td>5.0</td>\n",
              "      <td>9.0</td>\n",
              "    </tr>\n",
              "    <tr>\n",
              "      <th>3</th>\n",
              "      <td>2019-01-04</td>\n",
              "      <td>0.361</td>\n",
              "      <td>3.144026</td>\n",
              "      <td>27.95</td>\n",
              "      <td>5.0</td>\n",
              "      <td>9.0</td>\n",
              "    </tr>\n",
              "    <tr>\n",
              "      <th>4</th>\n",
              "      <td>2019-01-05</td>\n",
              "      <td>0.351</td>\n",
              "      <td>2.930639</td>\n",
              "      <td>32.14</td>\n",
              "      <td>5.2</td>\n",
              "      <td>9.4</td>\n",
              "    </tr>\n",
              "  </tbody>\n",
              "</table>\n",
              "</div>\n",
              "      <button class=\"colab-df-convert\" onclick=\"convertToInteractive('df-1ab6a867-610f-4942-aedb-7eead41655ae')\"\n",
              "              title=\"Convert this dataframe to an interactive table.\"\n",
              "              style=\"display:none;\">\n",
              "        \n",
              "  <svg xmlns=\"http://www.w3.org/2000/svg\" height=\"24px\"viewBox=\"0 0 24 24\"\n",
              "       width=\"24px\">\n",
              "    <path d=\"M0 0h24v24H0V0z\" fill=\"none\"/>\n",
              "    <path d=\"M18.56 5.44l.94 2.06.94-2.06 2.06-.94-2.06-.94-.94-2.06-.94 2.06-2.06.94zm-11 1L8.5 8.5l.94-2.06 2.06-.94-2.06-.94L8.5 2.5l-.94 2.06-2.06.94zm10 10l.94 2.06.94-2.06 2.06-.94-2.06-.94-.94-2.06-.94 2.06-2.06.94z\"/><path d=\"M17.41 7.96l-1.37-1.37c-.4-.4-.92-.59-1.43-.59-.52 0-1.04.2-1.43.59L10.3 9.45l-7.72 7.72c-.78.78-.78 2.05 0 2.83L4 21.41c.39.39.9.59 1.41.59.51 0 1.02-.2 1.41-.59l7.78-7.78 2.81-2.81c.8-.78.8-2.07 0-2.86zM5.41 20L4 18.59l7.72-7.72 1.47 1.35L5.41 20z\"/>\n",
              "  </svg>\n",
              "      </button>\n",
              "      \n",
              "  <style>\n",
              "    .colab-df-container {\n",
              "      display:flex;\n",
              "      flex-wrap:wrap;\n",
              "      gap: 12px;\n",
              "    }\n",
              "\n",
              "    .colab-df-convert {\n",
              "      background-color: #E8F0FE;\n",
              "      border: none;\n",
              "      border-radius: 50%;\n",
              "      cursor: pointer;\n",
              "      display: none;\n",
              "      fill: #1967D2;\n",
              "      height: 32px;\n",
              "      padding: 0 0 0 0;\n",
              "      width: 32px;\n",
              "    }\n",
              "\n",
              "    .colab-df-convert:hover {\n",
              "      background-color: #E2EBFA;\n",
              "      box-shadow: 0px 1px 2px rgba(60, 64, 67, 0.3), 0px 1px 3px 1px rgba(60, 64, 67, 0.15);\n",
              "      fill: #174EA6;\n",
              "    }\n",
              "\n",
              "    [theme=dark] .colab-df-convert {\n",
              "      background-color: #3B4455;\n",
              "      fill: #D2E3FC;\n",
              "    }\n",
              "\n",
              "    [theme=dark] .colab-df-convert:hover {\n",
              "      background-color: #434B5C;\n",
              "      box-shadow: 0px 1px 3px 1px rgba(0, 0, 0, 0.15);\n",
              "      filter: drop-shadow(0px 1px 2px rgba(0, 0, 0, 0.3));\n",
              "      fill: #FFFFFF;\n",
              "    }\n",
              "  </style>\n",
              "\n",
              "      <script>\n",
              "        const buttonEl =\n",
              "          document.querySelector('#df-1ab6a867-610f-4942-aedb-7eead41655ae button.colab-df-convert');\n",
              "        buttonEl.style.display =\n",
              "          google.colab.kernel.accessAllowed ? 'block' : 'none';\n",
              "\n",
              "        async function convertToInteractive(key) {\n",
              "          const element = document.querySelector('#df-1ab6a867-610f-4942-aedb-7eead41655ae');\n",
              "          const dataTable =\n",
              "            await google.colab.kernel.invokeFunction('convertToInteractive',\n",
              "                                                     [key], {});\n",
              "          if (!dataTable) return;\n",
              "\n",
              "          const docLinkHtml = 'Like what you see? Visit the ' +\n",
              "            '<a target=\"_blank\" href=https://colab.research.google.com/notebooks/data_table.ipynb>data table notebook</a>'\n",
              "            + ' to learn more about interactive tables.';\n",
              "          element.innerHTML = '';\n",
              "          dataTable['output_type'] = 'display_data';\n",
              "          await google.colab.output.renderOutput(dataTable, element);\n",
              "          const docLink = document.createElement('div');\n",
              "          docLink.innerHTML = docLinkHtml;\n",
              "          element.appendChild(docLink);\n",
              "        }\n",
              "      </script>\n",
              "    </div>\n",
              "  </div>\n",
              "  "
            ]
          },
          "metadata": {},
          "execution_count": 96
        }
      ]
    },
    {
      "cell_type": "code",
      "source": [
        "data.dtypes"
      ],
      "metadata": {
        "colab": {
          "base_uri": "https://localhost:8080/"
        },
        "id": "q-Yexg9ujJTi",
        "outputId": "93c83952-5c7f-4a6f-8416-3347cc905a5e"
      },
      "execution_count": 97,
      "outputs": [
        {
          "output_type": "execute_result",
          "data": {
            "text/plain": [
              "Date         datetime64[ns]\n",
              "turbidity           float64\n",
              "chlorine            float64\n",
              "alum                float64\n",
              "lime_pre            float64\n",
              "lime_post           float64\n",
              "dtype: object"
            ]
          },
          "metadata": {},
          "execution_count": 97
        }
      ]
    }
  ]
}