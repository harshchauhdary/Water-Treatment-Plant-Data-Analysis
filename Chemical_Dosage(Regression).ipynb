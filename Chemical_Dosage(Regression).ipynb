{
  "nbformat": 4,
  "nbformat_minor": 0,
  "metadata": {
    "colab": {
      "provenance": []
    },
    "kernelspec": {
      "name": "python3",
      "display_name": "Python 3"
    },
    "language_info": {
      "name": "python"
    }
  },
  "cells": [
    {
      "cell_type": "markdown",
      "source": [
        "Question: Can we use the predicted turbidity levels to determine the optimal chemical dosage (chlorine and alum) required for efficient treatment of water at the plant?"
      ],
      "metadata": {
        "id": "84zrPyofVNu2"
      }
    },
    {
      "cell_type": "markdown",
      "source": [
        "# 1. XGBoost"
      ],
      "metadata": {
        "id": "P0mtLYT8qPtJ"
      }
    },
    {
      "cell_type": "code",
      "source": [
        "!pip install pyspark"
      ],
      "metadata": {
        "colab": {
          "base_uri": "https://localhost:8080/"
        },
        "id": "MvNKhaXGS9tm",
        "outputId": "156fda31-277f-4055-e3d0-396dbeb511bf"
      },
      "execution_count": 8,
      "outputs": [
        {
          "output_type": "stream",
          "name": "stdout",
          "text": [
            "Looking in indexes: https://pypi.org/simple, https://us-python.pkg.dev/colab-wheels/public/simple/\n",
            "Requirement already satisfied: pyspark in /usr/local/lib/python3.9/dist-packages (3.3.2)\n",
            "Requirement already satisfied: py4j==0.10.9.5 in /usr/local/lib/python3.9/dist-packages (from pyspark) (0.10.9.5)\n"
          ]
        }
      ]
    },
    {
      "cell_type": "markdown",
      "source": [
        "### Predicting Chlorine"
      ],
      "metadata": {
        "id": "zVVSSWYxVlab"
      }
    },
    {
      "cell_type": "code",
      "source": [
        "from pyspark.sql.functions import col\n",
        "from pyspark.sql.types import DoubleType\n",
        "from xgboost.spark import SparkXGBRegressor\n",
        "from pyspark.sql import SparkSession\n",
        "\n",
        "spark = SparkSession.builder.getOrCreate()\n",
        "\n",
        "\n",
        "sparkDF = spark.read.csv(\"/content/data.csv\", header=True, inferSchema=True)\n",
        "sparkDF = sparkDF.select(sparkDF.columns[2:4]).dropna()\n",
        "\n",
        "# Remove rows with missing or zero values in the turbidity_raw column\n",
        "sparkDF = sparkDF.dropna(subset=[\"turbidity\"]).filter(col(\"turbidity\") != 0)\n",
        "sparkDF = sparkDF.dropna(subset=[\"chlorine\"]).filter(col(\"chlorine\") != 0)\n",
        "# Split the data into training and test sets (70% training, 30% test)\n",
        "\n",
        "(train_cl, test_cl) = sparkDF.randomSplit([0.8, 0.2])\n",
        "\n",
        "sparkDF.show()\n",
        "sparkDF.dtypes"
      ],
      "metadata": {
        "colab": {
          "base_uri": "https://localhost:8080/"
        },
        "id": "RYtK1XplS6MI",
        "outputId": "f5f20dd9-7646-4960-eedd-5f9c6c489577"
      },
      "execution_count": 27,
      "outputs": [
        {
          "output_type": "stream",
          "name": "stdout",
          "text": [
            "+---------+------------------+\n",
            "|turbidity|          chlorine|\n",
            "+---------+------------------+\n",
            "|    0.401|2.8764551519644184|\n",
            "|    0.374| 4.180292307692309|\n",
            "|    0.361|3.1440257723955907|\n",
            "|    0.351| 2.930638991845812|\n",
            "|    0.339| 2.828991513437058|\n",
            "|    0.374|3.6329153225806454|\n",
            "|    0.373| 2.846970024721879|\n",
            "|    0.369|3.8199298752191404|\n",
            "|    0.334| 2.640179351921628|\n",
            "|    0.336|2.9609897974722093|\n",
            "|    0.368|3.8589270799871502|\n",
            "|    0.321|2.4871304347826086|\n",
            "|    0.307| 2.693291314373559|\n",
            "|    0.306|2.7784936234058515|\n",
            "|    0.289| 2.519682684973303|\n",
            "|    0.279|2.6954764397905757|\n",
            "|    0.254|2.7801233328552994|\n",
            "|    0.347| 2.697494011976048|\n",
            "|    0.346| 2.768611695086818|\n",
            "|    0.371| 2.818426525998493|\n",
            "+---------+------------------+\n",
            "only showing top 20 rows\n",
            "\n"
          ]
        },
        {
          "output_type": "execute_result",
          "data": {
            "text/plain": [
              "[('turbidity', 'double'), ('chlorine', 'double')]"
            ]
          },
          "metadata": {},
          "execution_count": 27
        }
      ]
    },
    {
      "cell_type": "code",
      "source": [
        "from pyspark.ml.feature import VectorAssembler\n",
        "from pyspark.ml.evaluation import RegressionEvaluator\n",
        "\n",
        "\n",
        "assembler = VectorAssembler().setInputCols(['turbidity']).setOutputCol('features')\n",
        "assembledTrainingData = assembler.transform(train_cl)\n",
        "\n",
        "# create a xgboost pyspark regressor estimator and set use_gpu=True\n",
        "regressor = SparkXGBRegressor(\n",
        "  features_col=\"features\",\n",
        "  label_col=\"chlorine\",\n",
        "  num_workers=2,\n",
        ")\n",
        "# train and return the model\n",
        "model = regressor.fit(assembledTrainingData)\n",
        "\n",
        "# predict on test data\n",
        "assembledTestingData = assembler.transform(test_cl)\n",
        "\n",
        "predict_df = model.transform(assembledTestingData)\n",
        "\n",
        "# Evaluate the model using RMSE for the target variable Chemical Dosages_Chlorine\n",
        "evaluatorChlorine = RegressionEvaluator(labelCol=\"chlorine\", predictionCol=\"prediction\", metricName=\"rmse\")\n",
        "rmseChlorine = evaluatorChlorine.evaluate(predict_df)\n",
        "print(\"RMSE for Chemical Dosages_Chlorine: \", rmseChlorine)\n"
      ],
      "metadata": {
        "colab": {
          "base_uri": "https://localhost:8080/"
        },
        "id": "NvjAVZngWgjj",
        "outputId": "bb1b6bfa-ae22-4d05-b5f3-14b88debed5e"
      },
      "execution_count": 28,
      "outputs": [
        {
          "output_type": "stream",
          "name": "stderr",
          "text": [
            "/usr/local/lib/python3.9/dist-packages/xgboost/sklearn.py:782: UserWarning: Loading a native XGBoost model with Scikit-Learn interface.\n",
            "  warnings.warn(\"Loading a native XGBoost model with Scikit-Learn interface.\")\n"
          ]
        },
        {
          "output_type": "stream",
          "name": "stdout",
          "text": [
            "RMSE for Chemical Dosages_Chlorine:  0.33892043805824856\n"
          ]
        }
      ]
    },
    {
      "cell_type": "markdown",
      "source": [
        "### Predicting Alum"
      ],
      "metadata": {
        "id": "yRghJaeBVwDu"
      }
    },
    {
      "cell_type": "code",
      "source": [
        "sparkDF = spark.read.csv(\"/content/data.csv\", header=True, inferSchema=True)\n",
        "sparkDF = sparkDF.select([\"turbidity\", \"alum\"]).dropna()\n",
        "\n",
        "# Remove rows with missing or zero values in the turbidity_raw column\n",
        "sparkDF = sparkDF.dropna(subset=[\"turbidity\"]).filter(col(\"turbidity\") != 0)\n",
        "sparkDF = sparkDF.dropna(subset=[\"alum\"]).filter(col(\"alum\") != 0)\n",
        "# Split the data into training and test sets (70% training, 30% test)\n",
        "\n",
        "(train_al, test_al) = sparkDF.randomSplit([0.8, 0.2])"
      ],
      "metadata": {
        "id": "i7r4Gbq6KUDo"
      },
      "execution_count": 29,
      "outputs": []
    },
    {
      "cell_type": "code",
      "source": [
        "assembler = VectorAssembler().setInputCols(['turbidity']).setOutputCol('features')\n",
        "assembledTrainingData = assembler.transform(train_al)\n",
        "\n",
        "# create a xgboost pyspark regressor estimator and set use_gpu=True\n",
        "regressor = SparkXGBRegressor(\n",
        "  features_col=\"features\",\n",
        "  label_col=\"alum\",\n",
        "  num_workers=2,\n",
        ")\n",
        "# train and return the model\n",
        "model = regressor.fit(assembledTrainingData)\n",
        "\n",
        "# predict on test data\n",
        "assembledTestingData = assembler.transform(test_al)\n",
        "\n",
        "predict_df = model.transform(assembledTestingData)\n",
        "\n",
        "# Evaluate the model using RMSE for the target variable Chemical Dosages_Chlorine\n",
        "evaluatorAlum = RegressionEvaluator(labelCol=\"alum\", predictionCol=\"prediction\", metricName=\"rmse\")\n",
        "rmseAlum = evaluatorAlum.evaluate(predict_df)\n",
        "print(\"RMSE for Chemical Dosages_Alum: \", rmseAlum)\n"
      ],
      "metadata": {
        "colab": {
          "base_uri": "https://localhost:8080/"
        },
        "id": "G3MeJqcetPmD",
        "outputId": "178ed8b5-e901-4e4b-9c7c-a79b2be41365"
      },
      "execution_count": 26,
      "outputs": [
        {
          "output_type": "stream",
          "name": "stderr",
          "text": [
            "/usr/local/lib/python3.9/dist-packages/xgboost/sklearn.py:782: UserWarning: Loading a native XGBoost model with Scikit-Learn interface.\n",
            "  warnings.warn(\"Loading a native XGBoost model with Scikit-Learn interface.\")\n"
          ]
        },
        {
          "output_type": "stream",
          "name": "stdout",
          "text": [
            "RMSE for Chemical Dosages_Alum:  2.53850537993534\n"
          ]
        }
      ]
    },
    {
      "cell_type": "markdown",
      "source": [
        "### Predicting Chlorine and Alum with XGBoos + k-fold"
      ],
      "metadata": {
        "id": "UexnwunSWNC-"
      }
    },
    {
      "cell_type": "code",
      "source": [
        "from pyspark.ml.evaluation import RegressionEvaluator\n",
        "from pyspark.ml.regression import RandomForestRegressor\n",
        "\n",
        "from pyspark.ml.tuning import CrossValidator, ParamGridBuilder\n",
        "\n",
        "spark = SparkSession.builder.appName(\"RandomForestRegressor\").getOrCreate()\n",
        "\n",
        "# Define the feature and target columns\n",
        "featuresCol = \"features\"\n",
        "targetCol_Chlorine = \"chlorine\"\n",
        "targetCol_Alum = \"alum\"\n",
        "\n",
        "# Create a VectorAssembler to combine the features into a single vector column\n",
        "assembler = VectorAssembler().setInputCols(['turbidity']).setOutputCol('features')\n",
        "\n",
        "\n",
        "# Fit the VectorAssembler to the training data\n",
        "assembledTrainingData = assembler.transform(train_cl)\n",
        "\n",
        "# Train a RandomForestRegressor on the training data using k-fold cross-validation\n",
        "regressor = SparkXGBRegressor(\n",
        "  features_col=featuresCol,\n",
        "  label_col=targetCol_Chlorine,\n",
        "  num_workers=2,\n",
        ")\n",
        "paramGrid = ParamGridBuilder().addGrid(regressor.max_depth, [3, 6, 9]).build()\n",
        "crossval = CrossValidator(estimator=regressor, estimatorParamMaps=paramGrid, evaluator=RegressionEvaluator(labelCol=targetCol_Chlorine, predictionCol=\"prediction\", metricName=\"rmse\"), numFolds=3)\n",
        "model = crossval.fit(assembledTrainingData)\n",
        "\n",
        "# Apply the trained model to the test data\n",
        "assembledTestData = assembler.transform(test_cl)\n",
        "predictions = model.transform(assembledTestData)\n",
        "\n",
        "# Evaluate the model using RMSE for Chemical Dosages_Chlorine\n",
        "evaluator_Chlorine = RegressionEvaluator(labelCol=targetCol_Chlorine, predictionCol=\"prediction\", metricName=\"rmse\")\n",
        "rmse_Chlorine = evaluator_Chlorine.evaluate(predictions)\n",
        "print(\"RMSE for Chemical Dosages_Chlorine: \", rmse_Chlorine)\n",
        "\n",
        "# Train a RandomForestRegressor on the training data using k-fold cross-validation\n",
        "assembledTrainingData = assembler.transform(train_al)\n",
        "regressor = SparkXGBRegressor(\n",
        "  features_col=featuresCol,\n",
        "  label_col=targetCol_Alum,\n",
        "  num_workers=2,\n",
        ")\n",
        "paramGrid = ParamGridBuilder().addGrid(regressor.max_depth, [3, 6, 9]).build()\n",
        "crossval = CrossValidator(estimator=regressor, estimatorParamMaps=paramGrid, evaluator=RegressionEvaluator(labelCol=targetCol_Alum, predictionCol=\"prediction\", metricName=\"rmse\"), numFolds=3)\n",
        "model = crossval.fit(assembledTrainingData)\n",
        "\n",
        "# Apply the trained model to the test data\n",
        "assembledTestData = assembler.transform(test_al)\n",
        "predictions = model.transform(assembledTestData)\n",
        "\n",
        "# Evaluate the model using RMSE for Chemical Dosages_Alum\n",
        "evaluator_Alum = RegressionEvaluator(labelCol=targetCol_Alum, predictionCol=\"prediction\", metricName=\"rmse\")\n",
        "rmse_Alum = evaluator_Alum.evaluate(predictions)\n",
        "print(\"RMSE for Chemical Dosages_Alum: \", rmse_Alum)"
      ],
      "metadata": {
        "colab": {
          "base_uri": "https://localhost:8080/"
        },
        "id": "3O4jNYR9FjG1",
        "outputId": "e9b5ac43-2161-46bd-e0dd-aee3246f8b39"
      },
      "execution_count": 34,
      "outputs": [
        {
          "output_type": "stream",
          "name": "stdout",
          "text": [
            "RMSE for Chemical Dosages_Chlorine:  0.3192960046496115\n",
            "RMSE for Chemical Dosages_Alum:  2.7887978491914196\n"
          ]
        }
      ]
    },
    {
      "cell_type": "markdown",
      "source": [
        "# RandomForestRegressor"
      ],
      "metadata": {
        "id": "eFJXdeN927lH"
      }
    },
    {
      "cell_type": "markdown",
      "source": [
        "**Predicting Chemical Dosage for chlorine and Alum using Random Forest Regressor and evaluating model using RMSE**"
      ],
      "metadata": {
        "id": "5ZQbtYFhO5aY"
      }
    },
    {
      "cell_type": "code",
      "source": [
        "from pyspark.sql import SparkSession\n",
        "from pyspark.ml.feature import VectorAssembler\n",
        "from pyspark.ml.regression import RandomForestRegressor\n",
        "from pyspark.ml.evaluation import RegressionEvaluator\n",
        "\n",
        "spark = SparkSession.builder.appName(\"RandomForestRegressor\").getOrCreate()\n",
        "data = spark.read.csv(\"/content/data.csv\", header=True, inferSchema=True).dropna()\n",
        "# Convert Turbidity_Raw column to DoubleType\n",
        "data = data.withColumn(\"turbidity\", col(\"turbidity\").cast(DoubleType()))\n",
        "# Remove rows with missing or zero values in the turbidity_raw column\n",
        "data = data.dropna(subset=[\"turbidity\"]).filter(col(\"turbidity\") != 0)\n",
        "# Split the data into training and test sets (70% training, 30% test)\n",
        "(trainingData, testData) = data.randomSplit([0.7, 0.3])\n",
        "# Define the feature and target columns\n",
        "featuresCol = [\"turbidity\"]\n",
        "targetColChlorine = \"chlorine\"\n",
        "targetColAlum = \"alum\"\n",
        "# Create a VectorAssembler to combine the features into a single vector column\n",
        "assembler = VectorAssembler(inputCols=featuresCol, outputCol=\"features\")\n",
        "# Fit the VectorAssembler to the training data\n",
        "assembledTrainingData = assembler.transform(trainingData)\n",
        "# Train a RandomForestRegressor on the training data for target column Chemical Dosages_Chlorine\n",
        "rfChlorine = RandomForestRegressor(featuresCol=\"features\", labelCol=targetColChlorine, numTrees=60, maxDepth=5)\n",
        "modelChlorine = rfChlorine.fit(assembledTrainingData)\n",
        "# Apply the trained model to the test data\n",
        "assembledTestData = assembler.transform(testData)\n",
        "# Predict for the target variable Chemical Dosages_Chlorine using the trained model\n",
        "predictionsChlorine = modelChlorine.transform(assembledTestData)\n",
        "# Evaluate the model using RMSE for the target variable Chemical Dosages_Chlorine\n",
        "evaluatorChlorine = RegressionEvaluator(labelCol=targetColChlorine, predictionCol=\"prediction\", metricName=\"rmse\")\n",
        "rmseChlorine = evaluatorChlorine.evaluate(predictionsChlorine)\n",
        "print(\"RMSE for Chemical Dosages_Chlorine: \", rmseChlorine)\n",
        "\n",
        "# Train a RandomForestRegressor on the training data for target column Chemical Dosages_Alum\n",
        "rfAlum = RandomForestRegressor(featuresCol=\"features\", labelCol=targetColAlum, numTrees=60, maxDepth=5)\n",
        "modelAlum = rfAlum.fit(assembledTrainingData)\n",
        "# Predict for the target variable Chemical Dosages_Alum using the trained model\n",
        "predictionsAlum = modelAlum.transform(assembledTestData)\n",
        "# Evaluate the model using RMSE for the target variable Chemical Dosages_Alum\n",
        "evaluatorAlum = RegressionEvaluator(labelCol=targetColAlum, predictionCol=\"prediction\", metricName=\"rmse\")\n",
        "rmseAlum = evaluatorAlum.evaluate(predictionsAlum)\n",
        "print(\"RMSE for Chemical Dosages_Alum: \", rmseAlum)"
      ],
      "metadata": {
        "colab": {
          "base_uri": "https://localhost:8080/"
        },
        "id": "nTKgE-cjjDvo",
        "outputId": "42e16937-aa3b-4ade-bb41-45f4a64dc9a0"
      },
      "execution_count": 14,
      "outputs": [
        {
          "output_type": "stream",
          "name": "stdout",
          "text": [
            "RMSE for Chemical Dosages_Chlorine:  0.2961245748141294\n",
            "RMSE for Chemical Dosages_Alum:  3.1418770753858682\n"
          ]
        }
      ]
    },
    {
      "cell_type": "markdown",
      "source": [
        "**Predicting Chemical Dosage for chlorine using Random Forest Regressor and evaluating model using K Fold Cross Validation**"
      ],
      "metadata": {
        "id": "_5jRZs5AwrwZ"
      }
    },
    {
      "cell_type": "markdown",
      "source": [
        "**K Fold Cross Validation Technique**"
      ],
      "metadata": {
        "id": "jH4Zky_oON3F"
      }
    },
    {
      "cell_type": "code",
      "source": [
        "from pyspark.ml.evaluation import RegressionEvaluator\n",
        "from pyspark.ml.tuning import CrossValidator, ParamGridBuilder\n",
        "\n",
        "spark = SparkSession.builder.appName(\"RandomForestRegressor\").getOrCreate()\n",
        "data = spark.read.csv(\"/content/data.csv\", header=True, inferSchema=True).dropna()\n",
        "\n",
        "# Convert Turbidity_Raw column to DoubleType\n",
        "data = data.withColumn(\"turbidity\", col(\"turbidity\").cast(DoubleType()))\n",
        "\n",
        "# Remove rows with missing or zero values in the turbidity_raw column\n",
        "data = data.dropna(subset=[\"turbidity\"]).filter(col(\"turbidity\") != 0)\n",
        "\n",
        "# Split the data into training and test sets (70% training, 30% test)\n",
        "(trainingData, testData) = data.randomSplit([0.7, 0.3])\n",
        "\n",
        "# Define the feature and target columns\n",
        "featuresCol = [\"turbidity\"]\n",
        "targetCol_Chlorine = \"chlorine\"\n",
        "targetCol_Alum = \"alum\"\n",
        "\n",
        "# Create a VectorAssembler to combine the features into a single vector column\n",
        "assembler = VectorAssembler(inputCols=featuresCol, outputCol=\"features\")\n",
        "\n",
        "# Fit the VectorAssembler to the training data\n",
        "assembledTrainingData = assembler.transform(trainingData)\n",
        "\n",
        "# Train a RandomForestRegressor on the training data using k-fold cross-validation\n",
        "rf = RandomForestRegressor(featuresCol=\"features\", labelCol=targetCol_Chlorine, numTrees=60, maxDepth=5)\n",
        "paramGrid = ParamGridBuilder().addGrid(rf.numTrees, [30, 60, 90]).addGrid(rf.maxDepth, [3, 5, 7]).build()\n",
        "crossval = CrossValidator(estimator=rf, estimatorParamMaps=paramGrid, evaluator=RegressionEvaluator(labelCol=targetCol_Chlorine, predictionCol=\"prediction\", metricName=\"rmse\"), numFolds=3)\n",
        "model = crossval.fit(assembledTrainingData)\n",
        "\n",
        "# Apply the trained model to the test data\n",
        "assembledTestData = assembler.transform(testData)\n",
        "predictions = model.transform(assembledTestData)\n",
        "\n",
        "# Evaluate the model using RMSE for Chemical Dosages_Chlorine\n",
        "evaluator_Chlorine = RegressionEvaluator(labelCol=targetCol_Chlorine, predictionCol=\"prediction\", metricName=\"rmse\")\n",
        "rmse_Chlorine = evaluator_Chlorine.evaluate(predictions)\n",
        "print(\"RMSE for Chemical Dosages_Chlorine: \", rmse_Chlorine)\n",
        "\n",
        "# Train a RandomForestRegressor on the training data using k-fold cross-validation\n",
        "rf = RandomForestRegressor(featuresCol=\"features\", labelCol=targetCol_Alum, numTrees=100, maxDepth=5)\n",
        "paramGrid = ParamGridBuilder().addGrid(rf.numTrees, [30, 60, 90]).addGrid(rf.maxDepth, [3, 5, 7]).build()\n",
        "crossval = CrossValidator(estimator=rf, estimatorParamMaps=paramGrid, evaluator=RegressionEvaluator(labelCol=targetCol_Alum, predictionCol=\"prediction\", metricName=\"rmse\"), numFolds=3)\n",
        "model = crossval.fit(assembledTrainingData)\n",
        "\n",
        "# Apply the trained model to the test data\n",
        "assembledTestData = assembler.transform(testData)\n",
        "predictions = model.transform(assembledTestData)\n",
        "\n",
        "# Evaluate the model using RMSE for Chemical Dosages_Alum\n",
        "evaluator_Alum = RegressionEvaluator(labelCol=targetCol_Alum, predictionCol=\"prediction\", metricName=\"rmse\")\n",
        "rmse_Alum = evaluator_Alum.evaluate(predictions)\n",
        "print(\"RMSE for Chemical Dosages_Alum: \", rmse_Alum)"
      ],
      "metadata": {
        "colab": {
          "base_uri": "https://localhost:8080/"
        },
        "id": "aCNFRsgmN2yP",
        "outputId": "47913e03-0aa0-4890-8f36-912d7ad70d86"
      },
      "execution_count": 15,
      "outputs": [
        {
          "output_type": "stream",
          "name": "stdout",
          "text": [
            "RMSE for Chemical Dosages_Chlorine:  0.30294470463509265\n",
            "RMSE for Chemical Dosages_Alum:  3.0305412560502205\n"
          ]
        }
      ]
    }
  ]
}