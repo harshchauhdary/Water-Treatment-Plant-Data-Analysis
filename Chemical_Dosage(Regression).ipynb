{
  "nbformat": 4,
  "nbformat_minor": 0,
  "metadata": {
    "colab": {
      "provenance": []
    },
    "kernelspec": {
      "name": "python3",
      "display_name": "Python 3"
    },
    "language_info": {
      "name": "python"
    }
  },
  "cells": [
    {
      "cell_type": "markdown",
      "source": [
        "Question: Can we use the predicted turbidity levels to determine the optimal chemical dosage (chlorine and alum) required for efficient treatment of water at the plant?"
      ],
      "metadata": {
        "id": "84zrPyofVNu2"
      }
    },
    {
      "cell_type": "markdown",
      "source": [
        "# 1. XGBoost"
      ],
      "metadata": {
        "id": "P0mtLYT8qPtJ"
      }
    },
    {
      "cell_type": "code",
      "source": [
        "!pip install pyspark"
      ],
      "metadata": {
        "colab": {
          "base_uri": "https://localhost:8080/"
        },
        "id": "MvNKhaXGS9tm",
        "outputId": "672b6d76-bb43-4111-b1a7-8bd2bb0a0ea3"
      },
      "execution_count": 1,
      "outputs": [
        {
          "output_type": "stream",
          "name": "stdout",
          "text": [
            "Looking in indexes: https://pypi.org/simple, https://us-python.pkg.dev/colab-wheels/public/simple/\n",
            "Collecting pyspark\n",
            "  Downloading pyspark-3.3.2.tar.gz (281.4 MB)\n",
            "\u001b[2K     \u001b[90m━━━━━━━━━━━━━━━━━━━━━━━━━━━━━━━━━━━━━━━\u001b[0m \u001b[32m281.4/281.4 MB\u001b[0m \u001b[31m4.9 MB/s\u001b[0m eta \u001b[36m0:00:00\u001b[0m\n",
            "\u001b[?25h  Preparing metadata (setup.py) ... \u001b[?25l\u001b[?25hdone\n",
            "Collecting py4j==0.10.9.5\n",
            "  Downloading py4j-0.10.9.5-py2.py3-none-any.whl (199 kB)\n",
            "\u001b[2K     \u001b[90m━━━━━━━━━━━━━━━━━━━━━━━━━━━━━━━━━━━━━━\u001b[0m \u001b[32m199.7/199.7 kB\u001b[0m \u001b[31m26.7 MB/s\u001b[0m eta \u001b[36m0:00:00\u001b[0m\n",
            "\u001b[?25hBuilding wheels for collected packages: pyspark\n",
            "  Building wheel for pyspark (setup.py) ... \u001b[?25l\u001b[?25hdone\n",
            "  Created wheel for pyspark: filename=pyspark-3.3.2-py2.py3-none-any.whl size=281824028 sha256=3355d19a57bb5d62a04a8ede63d57903ae41436e7e5f97c3e5c386323d6ad62f\n",
            "  Stored in directory: /root/.cache/pip/wheels/6c/e3/9b/0525ce8a69478916513509d43693511463c6468db0de237c86\n",
            "Successfully built pyspark\n",
            "Installing collected packages: py4j, pyspark\n",
            "  Attempting uninstall: py4j\n",
            "    Found existing installation: py4j 0.10.9.7\n",
            "    Uninstalling py4j-0.10.9.7:\n",
            "      Successfully uninstalled py4j-0.10.9.7\n",
            "Successfully installed py4j-0.10.9.5 pyspark-3.3.2\n"
          ]
        }
      ]
    },
    {
      "cell_type": "markdown",
      "source": [
        "### Predicting Chlorine"
      ],
      "metadata": {
        "id": "zVVSSWYxVlab"
      }
    },
    {
      "cell_type": "markdown",
      "source": [
        "Reads a CSV file as a Spark DataFrame, drops rows with missing or zero values, and splits the data into training and test sets. "
      ],
      "metadata": {
        "id": "q6wBJSEUvz6D"
      }
    },
    {
      "cell_type": "code",
      "source": [
        "from pyspark.sql.functions import col\n",
        "from pyspark.sql.types import DoubleType\n",
        "from xgboost.spark import SparkXGBRegressor\n",
        "from pyspark.sql import SparkSession\n",
        "from sklearn.metrics import r2_score\n",
        "\n",
        "spark = SparkSession.builder.getOrCreate()\n",
        "\n",
        "\n",
        "sparkDF = spark.read.csv(\"/content/data.csv\", header=True, inferSchema=True)\n",
        "sparkDF = sparkDF.select(sparkDF.columns[2:4]).dropna()\n",
        "\n",
        "# Remove rows with missing or zero values in the turbidity_raw column\n",
        "sparkDF = sparkDF.dropna(subset=[\"turbidity\"]).filter(col(\"turbidity\") != 0)\n",
        "sparkDF = sparkDF.dropna(subset=[\"chlorine\"]).filter(col(\"chlorine\") != 0)\n",
        "# Split the data into training and test sets (70% training, 30% test)\n",
        "\n",
        "(train_cl, test_cl) = sparkDF.randomSplit([0.8, 0.2], seed = 123)\n",
        "\n",
        "sparkDF.show()\n",
        "sparkDF.dtypes"
      ],
      "metadata": {
        "colab": {
          "base_uri": "https://localhost:8080/"
        },
        "id": "RYtK1XplS6MI",
        "outputId": "7a996e84-b17b-4b88-b954-63252c935029"
      },
      "execution_count": 22,
      "outputs": [
        {
          "output_type": "stream",
          "name": "stdout",
          "text": [
            "+---------+------------------+\n",
            "|turbidity|          chlorine|\n",
            "+---------+------------------+\n",
            "|    0.401|2.8764551519644184|\n",
            "|    0.374| 4.180292307692309|\n",
            "|    0.361|3.1440257723955907|\n",
            "|    0.351| 2.930638991845812|\n",
            "|    0.339| 2.828991513437058|\n",
            "|    0.374|3.6329153225806454|\n",
            "|    0.373| 2.846970024721879|\n",
            "|    0.369|3.8199298752191404|\n",
            "|    0.334| 2.640179351921628|\n",
            "|    0.336|2.9609897974722093|\n",
            "|    0.368|3.8589270799871502|\n",
            "|    0.321|2.4871304347826086|\n",
            "|    0.307| 2.693291314373559|\n",
            "|    0.306|2.7784936234058515|\n",
            "|    0.289| 2.519682684973303|\n",
            "|    0.279|2.6954764397905757|\n",
            "|    0.254|2.7801233328552994|\n",
            "|    0.347| 2.697494011976048|\n",
            "|    0.346| 2.768611695086818|\n",
            "|    0.371| 2.818426525998493|\n",
            "+---------+------------------+\n",
            "only showing top 20 rows\n",
            "\n"
          ]
        },
        {
          "output_type": "execute_result",
          "data": {
            "text/plain": [
              "[('turbidity', 'double'), ('chlorine', 'double')]"
            ]
          },
          "metadata": {},
          "execution_count": 22
        }
      ]
    },
    {
      "cell_type": "markdown",
      "source": [
        "Uses PySpark to train a SparkXGBRegressor model to predict the chlorine dosage based on the turbidity values in the dataset. Assembles the training and testing data into feature vectors using VectorAssembler. It then fits the model to the training data, predicts the chlorine values on the test data, and evaluates the model using the RMSE metric."
      ],
      "metadata": {
        "id": "qySGBJMCwVKN"
      }
    },
    {
      "cell_type": "code",
      "source": [
        "from pyspark.ml.feature import VectorAssembler\n",
        "from pyspark.ml.evaluation import RegressionEvaluator\n",
        "from pyspark.sql.functions import stddev\n",
        "\n",
        "assembler = VectorAssembler().setInputCols(['turbidity']).setOutputCol('features')\n",
        "assembledTrainingData = assembler.transform(train_cl)\n",
        "\n",
        "# create a xgboost pyspark regressor estimator and set use_gpu=True\n",
        "regressor = SparkXGBRegressor(\n",
        "  features_col=\"features\",\n",
        "  label_col=\"chlorine\",\n",
        "  num_workers=2,\n",
        ")\n",
        "# train and return the model\n",
        "model = regressor.fit(assembledTrainingData)\n",
        "\n",
        "# predict on test data\n",
        "assembledTestingData = assembler.transform(test_cl)\n",
        "\n",
        "predict_df = model.transform(assembledTestingData)\n",
        "\n",
        "# Evaluate the model using RMSE for the target variable Chemical Dosages_Chlorine\n",
        "evaluatorChlorine = RegressionEvaluator(labelCol=\"chlorine\", predictionCol=\"prediction\", metricName=\"rmse\")\n",
        "rmseChlorine = evaluatorChlorine.evaluate(predict_df)\n",
        "evaluatorChlorine = RegressionEvaluator(labelCol=\"chlorine\", predictionCol=\"prediction\", metricName=\"r2\")\n",
        "r2Chlorine = evaluatorChlorine.evaluate(predict_df)\n",
        "print(\"RMSE for Chemical Dosages_Chlorine: \", rmseChlorine)\n",
        "print(\"Standard Deviation for Chemical Dosages_Chlorine: \", predict_df.agg(stddev(\"chlorine\")).collect()[0][0])\n",
        "print(\"R2 Score for Chemical Dosages_Chlorine: \", r2Chlorine)\n"
      ],
      "metadata": {
        "colab": {
          "base_uri": "https://localhost:8080/"
        },
        "id": "NvjAVZngWgjj",
        "outputId": "10916bd9-46d8-4e83-f94d-862a85df0920"
      },
      "execution_count": 23,
      "outputs": [
        {
          "output_type": "stream",
          "name": "stderr",
          "text": [
            "/usr/local/lib/python3.9/dist-packages/xgboost/sklearn.py:782: UserWarning: Loading a native XGBoost model with Scikit-Learn interface.\n",
            "  warnings.warn(\"Loading a native XGBoost model with Scikit-Learn interface.\")\n"
          ]
        },
        {
          "output_type": "stream",
          "name": "stdout",
          "text": [
            "RMSE for Chemical Dosages_Chlorine:  0.31906414236447145\n",
            "Standard Deviation for Chemical Dosages_Chlorine:  0.3143491900859291\n",
            "R2 Score for Chemical Dosages_Chlorine:  -0.03474167844625997\n"
          ]
        }
      ]
    },
    {
      "cell_type": "markdown",
      "source": [
        "### Predicting Alum"
      ],
      "metadata": {
        "id": "yRghJaeBVwDu"
      }
    },
    {
      "cell_type": "markdown",
      "source": [
        "Reads turbidity and alum columns from CSV file containing data, and removes rows with missing or zero values in either column. It then splits the remaining data into training and test sets using an 80-20 split."
      ],
      "metadata": {
        "id": "MCYkbXnpw7V7"
      }
    },
    {
      "cell_type": "code",
      "source": [
        "sparkDF = spark.read.csv(\"/content/data.csv\", header=True, inferSchema=True)\n",
        "sparkDF = sparkDF.select([\"turbidity\", \"alum\"]).dropna()\n",
        "\n",
        "# Remove rows with missing or zero values in the turbidity_raw column\n",
        "sparkDF = sparkDF.dropna(subset=[\"turbidity\"]).filter(col(\"turbidity\") != 0)\n",
        "sparkDF = sparkDF.dropna(subset=[\"alum\"]).filter(col(\"alum\") != 0)\n",
        "# Split the data into training and test sets (70% training, 30% test)\n",
        "\n",
        "(train_al, test_al) = sparkDF.randomSplit([0.8, 0.2], seed = 123)"
      ],
      "metadata": {
        "id": "i7r4Gbq6KUDo"
      },
      "execution_count": 24,
      "outputs": []
    },
    {
      "cell_type": "markdown",
      "source": [
        "Using Spark's VectorAssembler to assemble the features into a vector for the SparkXGBRegressor estimator to use. The estimator is then trained on the assembled training data, and the resulting model is used to predict on the assembled testing data. Finally, the RMSE is computed for the predicted and actual values of the target variable \"alum\"."
      ],
      "metadata": {
        "id": "Lh3QkggtxXYP"
      }
    },
    {
      "cell_type": "code",
      "source": [
        "assembler = VectorAssembler().setInputCols(['turbidity']).setOutputCol('features')\n",
        "assembledTrainingData = assembler.transform(train_al)\n",
        "\n",
        "# create a xgboost pyspark regressor estimator and set use_gpu=True\n",
        "regressor = SparkXGBRegressor(\n",
        "  features_col=\"features\",\n",
        "  label_col=\"alum\",\n",
        "  num_workers=2,\n",
        ")\n",
        "# train and return the model\n",
        "model = regressor.fit(assembledTrainingData)\n",
        "\n",
        "# predict on test data\n",
        "assembledTestingData = assembler.transform(test_al)\n",
        "\n",
        "predict_df = model.transform(assembledTestingData)\n",
        "\n",
        "# Evaluate the model using RMSE for the target variable Chemical Dosages_Chlorine\n",
        "evaluatorAlum = RegressionEvaluator(labelCol=\"alum\", predictionCol=\"prediction\", metricName=\"rmse\")\n",
        "rmseAlum = evaluatorAlum.evaluate(predict_df)\n",
        "evaluatorAlum = RegressionEvaluator(labelCol=\"alum\", predictionCol=\"prediction\", metricName=\"r2\")\n",
        "r2Alum = evaluatorAlum.evaluate(predict_df)\n",
        "print(\"RMSE for Chemical Dosages_Alum: \", rmseAlum)\n",
        "print(\"Standard Deviation for Chemical Dosages_Alum: \", predict_df.agg(stddev(\"alum\")).collect()[0][0])\n",
        "print(\"R2 Score for Chemical Dosages_Alum: \", r2Alum)\n",
        "\n"
      ],
      "metadata": {
        "colab": {
          "base_uri": "https://localhost:8080/"
        },
        "id": "G3MeJqcetPmD",
        "outputId": "ed6e03d9-3792-4cfe-e778-24552b51b511"
      },
      "execution_count": 26,
      "outputs": [
        {
          "output_type": "stream",
          "name": "stdout",
          "text": [
            "RMSE for Chemical Dosages_Alum:  2.8535596692548126\n",
            "Standard Deviation for Chemical Dosages_Alum:  2.7065028138676683\n",
            "R2 Score for Chemical Dosages_Alum:  -0.11631191880055902\n"
          ]
        }
      ]
    },
    {
      "cell_type": "markdown",
      "source": [
        "### Predicting Chlorine and Alum with XGBoost + k-fold"
      ],
      "metadata": {
        "id": "UexnwunSWNC-"
      }
    },
    {
      "cell_type": "markdown",
      "source": [
        "Fits a SparkXGBRegressor to predict the target variables \"chlorine\" and \"alum\" separately, using k-fold cross-validation. The code evaluates the model's performance on the test data by calculating the root mean squared error (RMSE) for each target variable separately. "
      ],
      "metadata": {
        "id": "9XZ12LqSx0QK"
      }
    },
    {
      "cell_type": "code",
      "source": [
        "from pyspark.ml.evaluation import RegressionEvaluator\n",
        "from pyspark.ml.regression import RandomForestRegressor\n",
        "\n",
        "from pyspark.ml.tuning import CrossValidator, ParamGridBuilder\n",
        "\n",
        "spark = SparkSession.builder.appName(\"RandomForestRegressor\").getOrCreate()\n",
        "\n",
        "# Define the feature and target columns\n",
        "featuresCol = \"features\"\n",
        "targetCol_Chlorine = \"chlorine\"\n",
        "targetCol_Alum = \"alum\"\n",
        "\n",
        "# Create a VectorAssembler to combine the features into a single vector column\n",
        "assembler = VectorAssembler().setInputCols(['turbidity']).setOutputCol('features')\n",
        "\n",
        "\n",
        "# Fit the VectorAssembler to the training data\n",
        "assembledTrainingData = assembler.transform(train_cl)\n",
        "\n",
        "# Train a SparkXGBRegressor on the training data using k-fold cross-validation\n",
        "regressor = SparkXGBRegressor(\n",
        "  features_col=featuresCol,\n",
        "  label_col=targetCol_Chlorine,\n",
        "  num_workers=2,\n",
        ")\n",
        "paramGrid = ParamGridBuilder().addGrid(regressor.max_depth, [3, 6, 9]).build()\n",
        "crossval = CrossValidator(estimator=regressor, estimatorParamMaps=paramGrid, evaluator=RegressionEvaluator(labelCol=targetCol_Chlorine, predictionCol=\"prediction\", metricName=\"rmse\"), numFolds=3)\n",
        "model = crossval.fit(assembledTrainingData)\n",
        "\n",
        "# Apply the trained model to the test data\n",
        "assembledTestData = assembler.transform(test_cl)\n",
        "predictions = model.transform(assembledTestData)\n",
        "\n",
        "# Evaluate the model using RMSE for Chemical Dosages_Chlorine\n",
        "evaluator_Chlorine = RegressionEvaluator(labelCol=targetCol_Chlorine, predictionCol=\"prediction\", metricName=\"rmse\")\n",
        "rmse_Chlorine = evaluator_Chlorine.evaluate(predictions)\n",
        "evaluator_Chlorine = RegressionEvaluator(labelCol=targetCol_Chlorine, predictionCol=\"prediction\", metricName=\"r2\")\n",
        "r2_Chlorine = evaluator_Chlorine.evaluate(predictions)\n",
        "print(\"RMSE for Chemical Dosages_Chlorine: \", rmse_Chlorine)\n",
        "print(\"Standard Deviation for Chemical Dosages_Chlorine: \", predictions.agg(stddev(\"chlorine\")).collect()[0][0])\n",
        "print(\"R2 Score for Chemical Dosages_Chlorine: \", r2_Chlorine)\n",
        "\n",
        "# Train a RandomForestRegressor on the training data using k-fold cross-validation\n",
        "assembledTrainingData = assembler.transform(train_al)\n",
        "regressor = SparkXGBRegressor(\n",
        "  features_col=featuresCol,\n",
        "  label_col=targetCol_Alum,\n",
        "  num_workers=2,\n",
        ")\n",
        "paramGrid = ParamGridBuilder().addGrid(regressor.max_depth, [3, 6, 9]).build()\n",
        "crossval = CrossValidator(estimator=regressor, estimatorParamMaps=paramGrid, evaluator=RegressionEvaluator(labelCol=targetCol_Alum, predictionCol=\"prediction\", metricName=\"rmse\"), numFolds=3)\n",
        "model = crossval.fit(assembledTrainingData)\n",
        "\n",
        "# Apply the trained model to the test data\n",
        "assembledTestData = assembler.transform(test_al)\n",
        "predictions = model.transform(assembledTestData)\n",
        "\n",
        "# Evaluate the model using RMSE for Chemical Dosages_Alum\n",
        "evaluator_Alum = RegressionEvaluator(labelCol=targetCol_Alum, predictionCol=\"prediction\", metricName=\"rmse\")\n",
        "rmse_Alum = evaluator_Alum.evaluate(predictions)\n",
        "evaluator_Alum = RegressionEvaluator(labelCol=targetCol_Alum, predictionCol=\"prediction\", metricName=\"r2\")\n",
        "r2_Alum = evaluator_Alum.evaluate(predictions)\n",
        "print()\n",
        "print(\"RMSE for Chemical Dosages_Alum: \", rmse_Alum)\n",
        "print(\"Standard Deviation for Chemical Dosages_Alum: \", predictions.agg(stddev(\"alum\")).collect()[0][0])\n",
        "print(\"R2 Score for Chemical Dosages_Alum: \", r2_Alum)\n"
      ],
      "metadata": {
        "colab": {
          "base_uri": "https://localhost:8080/"
        },
        "id": "3O4jNYR9FjG1",
        "outputId": "cae92836-5e2f-4e19-c301-b7dfc534015f"
      },
      "execution_count": 27,
      "outputs": [
        {
          "output_type": "stream",
          "name": "stdout",
          "text": [
            "RMSE for Chemical Dosages_Chlorine:  0.30633394977368344\n",
            "Standard Deviation for Chemical Dosages_Chlorine:  0.3143491900859291\n",
            "R2 Score for Chemical Dosages_Chlorine:  0.04618048217202242\n",
            "\n",
            "RMSE for Chemical Dosages_Alum:  2.7802192371476444\n",
            "Standard Deviation for Chemical Dosages_Alum:  2.7065028138676683\n",
            "R2 Score for Chemical Dosages_Alum:  -0.05966778904424408\n"
          ]
        }
      ]
    },
    {
      "cell_type": "markdown",
      "source": [
        "# RandomForestRegressor"
      ],
      "metadata": {
        "id": "eFJXdeN927lH"
      }
    },
    {
      "cell_type": "markdown",
      "source": [
        "**Predicting Chemical Dosage for chlorine and Alum using Random Forest Regressor and evaluating model using RMSE**\n",
        "\n",
        "Performs a regression analysis using Random Forest Regressor algorithm on the dataset to predict the Chemical Dosages of Chlorine and Alum. It splits the dataset into training and test sets, fits the model on the training set, and evaluates the model's performance on the test set using RMSE."
      ],
      "metadata": {
        "id": "5ZQbtYFhO5aY"
      }
    },
    {
      "cell_type": "code",
      "source": [
        "from pyspark.sql import SparkSession\n",
        "from pyspark.sql.functions import col\n",
        "from pyspark.sql.functions import stddev\n",
        "from pyspark.sql.types import DoubleType\n",
        "from pyspark.ml.feature import VectorAssembler\n",
        "from pyspark.ml.regression import RandomForestRegressor\n",
        "from pyspark.ml.evaluation import RegressionEvaluator\n",
        "\n",
        "spark = SparkSession.builder.appName(\"RandomForestRegressor\").getOrCreate()\n",
        "data = spark.read.csv(\"/content/data.csv\", header=True, inferSchema=True).dropna()\n",
        "# Convert Turbidity_Raw column to DoubleType\n",
        "data = data.withColumn(\"turbidity\", col(\"turbidity\").cast(DoubleType()))\n",
        "# Remove rows with missing or zero values in the turbidity_raw column\n",
        "data = data.dropna(subset=[\"turbidity\"]).filter(col(\"turbidity\") != 0)\n",
        "# Split the data into training and test sets (70% training, 30% test)\n",
        "(trainingData, testData) = data.randomSplit([0.8, 0.2])\n",
        "# Define the feature and target columns\n",
        "featuresCol = [\"turbidity\"]\n",
        "targetColChlorine = \"chlorine\"\n",
        "targetColAlum = \"alum\"\n",
        "# Create a VectorAssembler to combine the features into a single vector column\n",
        "assembler = VectorAssembler(inputCols=featuresCol, outputCol=\"features\")\n",
        "# Fit the VectorAssembler to the training data\n",
        "assembledTrainingData = assembler.transform(trainingData)\n",
        "# Train a RandomForestRegressor on the training data for target column Chemical Dosages_Chlorine\n",
        "rfChlorine = RandomForestRegressor(featuresCol=\"features\", labelCol=targetColChlorine, numTrees=60, maxDepth=5)\n",
        "modelChlorine = rfChlorine.fit(assembledTrainingData)\n",
        "# Apply the trained model to the test data\n",
        "assembledTestData = assembler.transform(testData)\n",
        "# Predict for the target variable Chemical Dosages_Chlorine using the trained model\n",
        "predictionsChlorine = modelChlorine.transform(assembledTestData)\n",
        "# Evaluate the model using RMSE for the target variable Chemical Dosages_Chlorine\n",
        "evaluatorChlorine = RegressionEvaluator(labelCol=targetColChlorine, predictionCol=\"prediction\", metricName=\"rmse\")\n",
        "rmseChlorine = evaluatorChlorine.evaluate(predictionsChlorine)\n",
        "print(\"RMSE for Chemical Dosages_Chlorine: \", rmseChlorine)\n",
        "\n",
        "# Train a RandomForestRegressor on the training data for target column Chemical Dosages_Alum\n",
        "rfAlum = RandomForestRegressor(featuresCol=\"features\", labelCol=targetColAlum, numTrees=60, maxDepth=5)\n",
        "modelAlum = rfAlum.fit(assembledTrainingData)\n",
        "# Predict for the target variable Chemical Dosages_Alum using the trained model\n",
        "predictionsAlum = modelAlum.transform(assembledTestData)\n",
        "# Evaluate the model using RMSE for the target variable Chemical Dosages_Alum\n",
        "evaluatorAlum = RegressionEvaluator(labelCol=targetColAlum, predictionCol=\"prediction\", metricName=\"rmse\")\n",
        "rmseAlum = evaluatorAlum.evaluate(predictionsAlum)\n",
        "print(\"RMSE for Chemical Dosages_Alum: \", rmseAlum)\n",
        "\n",
        "stdDevChlorine = testData.select(targetColChlorine).rdd.map(lambda x: x[0]).stdev()\n",
        "stdDevAlum = testData.select(targetColAlum).rdd.map(lambda x: x[0]).stdev()\n",
        "\n",
        "#print(\"RMSE for Chemical Dosages_Chlorine: \", rmseChlorine)\n",
        "print(\"Standard deviation for Chemical Dosages_Chlorine: \", stdDevChlorine)\n",
        "# if rmseChlorine < stdDevChlorine:\n",
        "#     print(\"The model for Chemical Dosages_Chlorine is performing well as RMSE is less than the standard deviation.\")\n",
        "# else:\n",
        "#     print(\"The model for Chemical Dosages_Chlorine is not performing well as RMSE is greater than or equal to the standard deviation.\")\n",
        "\n",
        "#print(\"RMSE for Chemical Dosages_Alum: \", rmseAlum)\n",
        "print(\"Standard deviation for Chemical Dosages_Alum: \", stdDevAlum)\n",
        "# if rmseAlum < stdDevAlum:\n",
        "#     print(\"The model for Chemical Dosages_Alum is performing well as RMSE is less than the standard deviation.\")\n",
        "# else:\n",
        "#     print(\"The model for Chemical Dosages_Alum is not performing well as RMSE is greater than or equal to the standard deviation.\")\n",
        "evaluatorChlorine = RegressionEvaluator(labelCol=targetColChlorine, predictionCol=\"prediction\", metricName=\"r2\")\n",
        "r2Chlorine = evaluatorChlorine.evaluate(predictionsChlorine)\n",
        "print(\"R2 score for Chemical Dosages_Chlorine: \", r2Chlorine)\n",
        "evaluatorAlum = RegressionEvaluator(labelCol=targetColAlum, predictionCol=\"prediction\", metricName=\"r2\")\n",
        "r2Alum = evaluatorAlum.evaluate(predictionsAlum)\n",
        "print(\"R2 score for Chemical Dosages_Alum: \", r2Alum)\n"
      ],
      "metadata": {
        "colab": {
          "base_uri": "https://localhost:8080/"
        },
        "id": "nTKgE-cjjDvo",
        "outputId": "186a64bb-72c1-4982-f823-e8be7174002f"
      },
      "execution_count": 31,
      "outputs": [
        {
          "output_type": "stream",
          "name": "stdout",
          "text": [
            "RMSE for Chemical Dosages_Chlorine:  0.2872971110811574\n",
            "RMSE for Chemical Dosages_Alum:  4.344632352246219\n",
            "Standard deviation for Chemical Dosages_Chlorine:  0.30792591039179934\n",
            "Standard deviation for Chemical Dosages_Alum:  4.374064473496737\n",
            "R2 score for Chemical Dosages_Chlorine:  0.1294974458577488\n",
            "R2 score for Chemical Dosages_Alum:  0.0134122852012728\n"
          ]
        }
      ]
    },
    {
      "cell_type": "markdown",
      "source": [
        "**Predicting Chemical Dosage for chlorine using Random Forest Regressor and evaluating model using K Fold Cross Validation**"
      ],
      "metadata": {
        "id": "_5jRZs5AwrwZ"
      }
    },
    {
      "cell_type": "markdown",
      "source": [
        "**K Fold Cross Validation Technique**"
      ],
      "metadata": {
        "id": "jH4Zky_oON3F"
      }
    },
    {
      "cell_type": "markdown",
      "source": [
        "Trains two Random Forest Regressor models to predict the chemical dosages of chlorine and alum in water treatment based on the turbidity level. The models are trained using k-fold cross-validation and their performance is evaluated using RMSE on a test dataset. The best hyperparameters for each model are selected using a grid search."
      ],
      "metadata": {
        "id": "hRVIjck7yVX4"
      }
    },
    {
      "cell_type": "code",
      "source": [
        "from pyspark.ml.evaluation import RegressionEvaluator\n",
        "from pyspark.ml.tuning import CrossValidator, ParamGridBuilder\n",
        "from pyspark.sql.functions import stddev\n",
        "\n",
        "spark = SparkSession.builder.appName(\"RandomForestRegressor\").getOrCreate()\n",
        "data = spark.read.csv(\"/content/data.csv\", header=True, inferSchema=True).dropna()\n",
        "\n",
        "# Convert Turbidity_Raw column to DoubleType\n",
        "data = data.withColumn(\"turbidity\", col(\"turbidity\").cast(DoubleType()))\n",
        "\n",
        "# Remove rows with missing or zero values in the turbidity_raw column\n",
        "data = data.dropna(subset=[\"turbidity\"]).filter(col(\"turbidity\") != 0)\n",
        "\n",
        "# Split the data into training and test sets (70% training, 30% test)\n",
        "(trainingData, testData) = data.randomSplit([0.7, 0.3])\n",
        "\n",
        "# Define the feature and target columns\n",
        "featuresCol = [\"turbidity\"]\n",
        "targetCol_Chlorine = \"chlorine\"\n",
        "targetCol_Alum = \"alum\"\n",
        "\n",
        "# Create a VectorAssembler to combine the features into a single vector column\n",
        "assembler = VectorAssembler(inputCols=featuresCol, outputCol=\"features\")\n",
        "\n",
        "# Fit the VectorAssembler to the training data\n",
        "assembledTrainingData = assembler.transform(trainingData)\n",
        "\n",
        "# Train a RandomForestRegressor on the training data using k-fold cross-validation\n",
        "rf = RandomForestRegressor(featuresCol=\"features\", labelCol=targetCol_Chlorine, numTrees=60, maxDepth=5)\n",
        "paramGrid = ParamGridBuilder().addGrid(rf.numTrees, [30, 60, 90]).addGrid(rf.maxDepth, [3, 5, 7]).build()\n",
        "crossval = CrossValidator(estimator=rf, estimatorParamMaps=paramGrid, evaluator=RegressionEvaluator(labelCol=targetCol_Chlorine, predictionCol=\"prediction\", metricName=\"rmse\"), numFolds=3)\n",
        "model = crossval.fit(assembledTrainingData)\n",
        "\n",
        "# Apply the trained model to the test data\n",
        "assembledTestData = assembler.transform(testData)\n",
        "predictions = model.transform(assembledTestData)\n",
        "\n",
        "# Evaluate the model using RMSE for Chemical Dosages_Chlorine\n",
        "evaluator_Chlorine = RegressionEvaluator(labelCol=targetCol_Chlorine, predictionCol=\"prediction\", metricName=\"rmse\")\n",
        "rmse_Chlorine = evaluator_Chlorine.evaluate(predictions)\n",
        "evaluator_Chlorine = RegressionEvaluator(labelCol=targetCol_Chlorine, predictionCol=\"prediction\", metricName=\"r2\")\n",
        "r2_Chlorine = evaluator_Chlorine.evaluate(predictions)\n",
        "print(\"RMSE for Chemical Dosages_Chlorine: \", rmse_Chlorine)\n",
        "\n",
        "# Train a RandomForestRegressor on the training data using k-fold cross-validation\n",
        "rf = RandomForestRegressor(featuresCol=\"features\", labelCol=targetCol_Alum, numTrees=100, maxDepth=5)\n",
        "paramGrid = ParamGridBuilder().addGrid(rf.numTrees, [30, 60, 90]).addGrid(rf.maxDepth, [3, 5, 7]).build()\n",
        "crossval = CrossValidator(estimator=rf, estimatorParamMaps=paramGrid, evaluator=RegressionEvaluator(labelCol=targetCol_Alum, predictionCol=\"prediction\", metricName=\"rmse\"), numFolds=3)\n",
        "model = crossval.fit(assembledTrainingData)\n",
        "\n",
        "# Apply the trained model to the test data\n",
        "assembledTestData = assembler.transform(testData)\n",
        "predictions = model.transform(assembledTestData)\n",
        "\n",
        "# Evaluate the model using RMSE for Chemical Dosages_Alum\n",
        "evaluator_Alum = RegressionEvaluator(labelCol=targetCol_Alum, predictionCol=\"prediction\", metricName=\"rmse\")\n",
        "rmse_Alum = evaluator_Alum.evaluate(predictions)\n",
        "print(\"RMSE for Chemical Dosages_Alum: \", rmse_Alum)\n",
        "\n",
        "# Calculate the standard deviation of the target column in the test data\n",
        "stddev_Chlorine = testData.agg(stddev(targetCol_Chlorine)).collect()[0][0]\n",
        "stddev_Alum = testData.agg(stddev(targetCol_Alum)).collect()[0][0]\n",
        "\n",
        "print(\"Standard deviation for Chemical Dosages_Chlorine: \", stddev_Chlorine)\n",
        "print(\"Standard deviation for Chemical Dosages_Alum: \", stddev_Alum)\n",
        "\n",
        "print(\"R2 score for Chemical Dosages_Chlorine: \", r2_Chlorine)\n",
        "\n",
        "evaluator_Alum = RegressionEvaluator(labelCol=targetCol_Alum, predictionCol=\"prediction\", metricName=\"r2\")\n",
        "r2_Alum = evaluator_Alum.evaluate(predictions)\n",
        "print(\"R2 score for Chemical Dosages_Alum: \", r2_Alum)\n",
        "\n",
        "# Compare the RMSE values with the standard deviation\n",
        "# if rmse_Chlorine < stddev_Chlorine:\n",
        "#     print(\"RMSE for Chemical Dosages_Chlorine is less than the standard deviation.\")\n",
        "# else:\n",
        "#     print(\"RMSE for Chemical Dosages_Chlorine is greater than or equal to the standard deviation.\")\n",
        "\n",
        "# if rmse_Alum < stddev_Alum:\n",
        "#     print(\"RMSE for Chemical Dosages_Alum is less than the standard deviation.\")\n",
        "# else:\n",
        "#     print(\"RMSE for Chemical Dosages_Alum is greater than or equal to the standard deviation.\")"
      ],
      "metadata": {
        "colab": {
          "base_uri": "https://localhost:8080/"
        },
        "id": "aCNFRsgmN2yP",
        "outputId": "96136163-ab3e-4d41-ff5c-3998be123f51"
      },
      "execution_count": 32,
      "outputs": [
        {
          "output_type": "stream",
          "name": "stdout",
          "text": [
            "RMSE for Chemical Dosages_Chlorine:  0.28664328288192314\n",
            "RMSE for Chemical Dosages_Alum:  3.14956166920326\n",
            "Standard deviation for Chemical Dosages_Chlorine:  0.31651539040239485\n",
            "Standard deviation for Chemical Dosages_Alum:  3.1604213835981416\n",
            "R2 score for Chemical Dosages_Chlorine:  0.17727788955402002\n",
            "R2 score for Chemical Dosages_Alum:  0.003747223415838885\n"
          ]
        }
      ]
    }
  ]
}